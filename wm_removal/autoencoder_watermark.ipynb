{
  "metadata": {
    "language_info": {
      "codemirror_mode": {
        "name": "ipython",
        "version": 3
      },
      "file_extension": ".py",
      "mimetype": "text/x-python",
      "name": "python",
      "nbconvert_exporter": "python",
      "pygments_lexer": "ipython3",
      "version": "3.7.7-final"
    },
    "orig_nbformat": 2,
    "kernelspec": {
      "name": "tensorflow",
      "display_name": "Python 3.7 (tensorflow)"
    },
    "colab": {
      "provenance": [],
      "machine_shape": "hm"
    },
    "accelerator": "GPU",
    "gpuClass": "premium"
  },
  "nbformat": 4,
  "nbformat_minor": 0,
  "cells": [
    {
      "cell_type": "code",
      "source": [
        "gpu_info = !nvidia-smi\n",
        "gpu_info = '\\n'.join(gpu_info)\n",
        "if gpu_info.find('failed') >= 0:\n",
        "  print('Not connected to a GPU')\n",
        "else:\n",
        "  print(gpu_info)"
      ],
      "metadata": {
        "colab": {
          "base_uri": "https://localhost:8080/"
        },
        "id": "mS4sFLUsvahQ",
        "outputId": "14d47450-4ff6-4ba3-f15f-1c488dbe4dca"
      },
      "execution_count": null,
      "outputs": [
        {
          "output_type": "stream",
          "name": "stdout",
          "text": [
            "Mon Jan 16 22:26:35 2023       \n",
            "+-----------------------------------------------------------------------------+\n",
            "| NVIDIA-SMI 460.32.03    Driver Version: 460.32.03    CUDA Version: 11.2     |\n",
            "|-------------------------------+----------------------+----------------------+\n",
            "| GPU  Name        Persistence-M| Bus-Id        Disp.A | Volatile Uncorr. ECC |\n",
            "| Fan  Temp  Perf  Pwr:Usage/Cap|         Memory-Usage | GPU-Util  Compute M. |\n",
            "|                               |                      |               MIG M. |\n",
            "|===============================+======================+======================|\n",
            "|   0  Tesla T4            Off  | 00000000:00:04.0 Off |                    0 |\n",
            "| N/A   34C    P8     9W /  70W |      0MiB / 15109MiB |      0%      Default |\n",
            "|                               |                      |                  N/A |\n",
            "+-------------------------------+----------------------+----------------------+\n",
            "                                                                               \n",
            "+-----------------------------------------------------------------------------+\n",
            "| Processes:                                                                  |\n",
            "|  GPU   GI   CI        PID   Type   Process name                  GPU Memory |\n",
            "|        ID   ID                                                   Usage      |\n",
            "|=============================================================================|\n",
            "|  No running processes found                                                 |\n",
            "+-----------------------------------------------------------------------------+\n"
          ]
        }
      ]
    },
    {
      "cell_type": "code",
      "execution_count": null,
      "metadata": {
        "tags": [],
        "colab": {
          "base_uri": "https://localhost:8080/"
        },
        "id": "dVPMY2hds6wn",
        "outputId": "18a14b30-e9b1-4381-8c69-50083d287465"
      },
      "outputs": [
        {
          "output_type": "stream",
          "name": "stdout",
          "text": [
            "tensorflow GPU version: 2.9.2\n"
          ]
        }
      ],
      "source": [
        "import tensorflow as tf\n",
        "#Check if GPU is in use.\n",
        "print(f\"tensorflow GPU version: {tf.__version__}\")"
      ]
    },
    {
      "cell_type": "code",
      "execution_count": null,
      "metadata": {
        "tags": [],
        "id": "PO8SAs9os6ws"
      },
      "outputs": [],
      "source": [
        "from PIL import Image\n",
        "from tqdm import tqdm\n",
        "import os \n",
        "import time\n",
        "import tensorflow as tf\n",
        "from tensorflow.keras import layers\n",
        "from tensorflow.keras.callbacks import ModelCheckpoint\n",
        "from tensorflow.keras.models import Model"
      ]
    },
    {
      "cell_type": "code",
      "execution_count": null,
      "metadata": {
        "tags": [],
        "colab": {
          "base_uri": "https://localhost:8080/"
        },
        "id": "qHydSd2Ps6wu",
        "outputId": "8d920501-a37c-461f-fe35-7fc7f5345215"
      },
      "outputs": [
        {
          "output_type": "stream",
          "name": "stdout",
          "text": [
            "Num GPUs Available:  1\n"
          ]
        }
      ],
      "source": [
        "#Clear the GPU memory\n",
        "gpus = tf.config.experimental.list_physical_devices('GPU')\n",
        "tf.config.experimental.set_memory_growth(gpus[0], True)\n",
        "print(\"Num GPUs Available: \", len(tf.config.experimental.list_physical_devices('GPU')))"
      ]
    },
    {
      "cell_type": "code",
      "source": [
        "!pip install patool"
      ],
      "metadata": {
        "colab": {
          "base_uri": "https://localhost:8080/"
        },
        "id": "zyxyxZunYxh4",
        "outputId": "943c52fc-aa1c-40b4-c726-0c34166d5709"
      },
      "execution_count": null,
      "outputs": [
        {
          "output_type": "stream",
          "name": "stdout",
          "text": [
            "Looking in indexes: https://pypi.org/simple, https://us-python.pkg.dev/colab-wheels/public/simple/\n",
            "Collecting patool\n",
            "  Downloading patool-1.12-py2.py3-none-any.whl (77 kB)\n",
            "\u001b[2K     \u001b[90m━━━━━━━━━━━━━━━━━━━━━━━━━━━━━━━━━━━━━━━━\u001b[0m \u001b[32m77.5/77.5 KB\u001b[0m \u001b[31m2.5 MB/s\u001b[0m eta \u001b[36m0:00:00\u001b[0m\n",
            "\u001b[?25hInstalling collected packages: patool\n",
            "Successfully installed patool-1.12\n"
          ]
        }
      ]
    },
    {
      "cell_type": "code",
      "source": [
        "from google.colab import drive\n",
        "drive.mount('/content/drive')"
      ],
      "metadata": {
        "colab": {
          "base_uri": "https://localhost:8080/"
        },
        "id": "eN66IyyEwRhB",
        "outputId": "a0277d91-4b56-41cb-b239-2843abe293e6"
      },
      "execution_count": null,
      "outputs": [
        {
          "output_type": "stream",
          "name": "stdout",
          "text": [
            "Mounted at /content/drive\n"
          ]
        }
      ]
    },
    {
      "cell_type": "code",
      "source": [
        "!cp /content/drive/MyDrive/CLWD.rar /content/"
      ],
      "metadata": {
        "id": "GDETwdXZYuT2"
      },
      "execution_count": null,
      "outputs": []
    },
    {
      "cell_type": "code",
      "source": [
        "import patoolib\n",
        "patoolib.extract_archive(\"/content/CLWD.rar\", outdir=\"/content\")"
      ],
      "metadata": {
        "colab": {
          "base_uri": "https://localhost:8080/",
          "height": 105
        },
        "id": "VwIEsKO_YuSb",
        "outputId": "d291af47-1426-466f-f0c1-c60350c7d937"
      },
      "execution_count": null,
      "outputs": [
        {
          "output_type": "stream",
          "name": "stdout",
          "text": [
            "patool: Extracting /content/CLWD.rar ...\n",
            "patool: running /usr/bin/unrar x -- /content/CLWD.rar\n",
            "patool:     with cwd='/content'\n",
            "patool: ... /content/CLWD.rar extracted to `/content'.\n"
          ]
        },
        {
          "output_type": "execute_result",
          "data": {
            "text/plain": [
              "'/content'"
            ],
            "application/vnd.google.colaboratory.intrinsic+json": {
              "type": "string"
            }
          },
          "metadata": {},
          "execution_count": 8
        }
      ]
    },
    {
      "cell_type": "code",
      "source": [
        "!cp -r /content/CLWD/train/Watermarked_image /content/Data/Train/WM_Images\n",
        "!cp -r /content/CLWD/train/Watermark_free_image /content/Data/Train/Original_Ims\n",
        "\n"
      ],
      "metadata": {
        "id": "DBJ1QQvbYuN4"
      },
      "execution_count": null,
      "outputs": []
    },
    {
      "cell_type": "code",
      "source": [
        "!cp -r /content/CLWD/test/Watermarked_image /content/Data/Test/WM_Images\n",
        "!cp -r /content/CLWD/test/Watermark_free_image /content/Data/Test/Original_Ims"
      ],
      "metadata": {
        "id": "DbiYlFqcaQAy"
      },
      "execution_count": null,
      "outputs": []
    },
    {
      "cell_type": "code",
      "execution_count": null,
      "metadata": {
        "id": "cvkQE3Yrs6wv"
      },
      "outputs": [],
      "source": [
        "def train_augment_generator(train_image_gen, train_wm_gen, dir_path, shape, seed = 1, batch_size = 5):\n",
        "\n",
        "    train_image_generator = train_image_gen.flow_from_directory(f'{dir_path}Original_Ims/', batch_size = batch_size, seed = seed, target_size=(shape, shape), shuffle=False) \n",
        "    train_wm_generator = train_wm_gen.flow_from_directory(f'{dir_path}WM_Images/', batch_size = batch_size, seed = seed, target_size=(shape, shape), shuffle=False)\n",
        "\n",
        "    while True:\n",
        "        orig_image = train_image_generator.next() # Original image\n",
        "        wm_image = train_wm_generator.next() # Marked image \n",
        "        yield tf.cast(wm_image[0],tf.float32), tf.cast(orig_image[0], tf.float32) # yeild X = marked image, Y = clean image"
      ]
    },
    {
      "cell_type": "code",
      "execution_count": null,
      "metadata": {
        "tags": [],
        "colab": {
          "base_uri": "https://localhost:8080/"
        },
        "id": "EaJEUzqGs6wv",
        "outputId": "19ff74c7-a7b1-4e5b-c551-a90ccde6290d"
      },
      "outputs": [
        {
          "output_type": "stream",
          "name": "stdout",
          "text": [
            "Found 60000 images belonging to 1 classes.\n",
            "Found 10000 images belonging to 1 classes.\n"
          ]
        }
      ],
      "source": [
        "# Configuration\n",
        "GENERATE_SQUARE = 224 * 2\n",
        "BATCH_SIZE = 8\n",
        "SEED = 54\n",
        "train_path = \"/content/Data/Train/\"\n",
        "test_path = \"/content/Data/Test/\"\n",
        "\n",
        "\n",
        "# Creating data generators for train and validation images\n",
        "train_orig_data_generator = tf.keras.preprocessing.image.ImageDataGenerator(rescale=1./255) \n",
        "train_wm_data_generator = tf.keras.preprocessing.image.ImageDataGenerator(rescale=1./255)\n",
        "\n",
        "train_generator = train_augment_generator(train_orig_data_generator, train_wm_data_generator, train_path, GENERATE_SQUARE, batch_size=BATCH_SIZE) \n",
        "valid_generator = train_augment_generator(train_orig_data_generator, train_wm_data_generator, test_path, GENERATE_SQUARE, batch_size=BATCH_SIZE)\n",
        "\n",
        "train_gen = train_orig_data_generator.flow_from_directory(\n",
        "    directory=\"/content/Data/Train/WM_Images/\",\n",
        "    target_size=(GENERATE_SQUARE, GENERATE_SQUARE),\n",
        "    batch_size=BATCH_SIZE,\n",
        "    seed=SEED)\n",
        "\n",
        "test_gen = train_orig_data_generator.flow_from_directory(\n",
        "    directory=\"/content/Data/Test/WM_Images/\",\n",
        "    target_size=(GENERATE_SQUARE, GENERATE_SQUARE),\n",
        "    batch_size=BATCH_SIZE)\n",
        "\n"
      ]
    },
    {
      "cell_type": "code",
      "execution_count": null,
      "metadata": {
        "tags": [],
        "colab": {
          "base_uri": "https://localhost:8080/"
        },
        "id": "wb8qgvQPs6wx",
        "outputId": "2c60cf53-2706-4922-b13a-31ab2e65cb52"
      },
      "outputs": [
        {
          "output_type": "stream",
          "name": "stdout",
          "text": [
            "7500 1250\n",
            "8\n"
          ]
        }
      ],
      "source": [
        "#Number of steps per epoch\n",
        "STEP_SIZE_TRAIN=train_gen.n//BATCH_SIZE\n",
        "STEP_SIZE_VALID=test_gen.n//BATCH_SIZE\n",
        "\n",
        "\n",
        "print(STEP_SIZE_TRAIN,STEP_SIZE_VALID)\n",
        "print(BATCH_SIZE)"
      ]
    },
    {
      "cell_type": "code",
      "execution_count": null,
      "metadata": {
        "tags": [],
        "id": "e-gl3jgos6wy"
      },
      "outputs": [],
      "source": [
        "class wm_remover(Model):\n",
        "  def __init__(self, in_shp):\n",
        "    super(wm_remover, self).__init__()\n",
        "    # Define the encoder that will perform feature extraction\n",
        "    self.encoder = tf.keras.Sequential([          \n",
        "      layers.Input(shape=(in_shp, in_shp, 3)),\n",
        "      layers.Conv2D(256, (3,3), activation='relu', padding='same', strides=2),\n",
        "      layers.Conv2D(128, (3,3), activation='relu', padding='same', strides=2),\n",
        "      layers.Conv2D(64, (3,3), activation='relu', padding='same', strides=2),\n",
        "      layers.Conv2D(32, (3,3), activation='relu', padding='same', strides=2), \n",
        "      ])\n",
        "\n",
        "    # Define the decoder that will perfoorm image decoding\n",
        "    self.decoder = tf.keras.Sequential([\n",
        "      layers.Conv2DTranspose(32, kernel_size=3, strides=2, activation='relu', padding='same'),\n",
        "      layers.Conv2DTranspose(64, kernel_size=3, strides=2, activation='relu', padding='same'),\n",
        "      layers.Conv2DTranspose(128, kernel_size=3, strides=2, activation='relu', padding='same'),\n",
        "      layers.Conv2DTranspose(256, kernel_size=3, strides=2, activation='relu', padding='same'),\n",
        "      layers.Conv2D(3, kernel_size=(3,3), activation='sigmoid', padding='same')\n",
        "      ])\n",
        "    \n",
        "    \n",
        "  def call(self, x):\n",
        "    encoded = self.encoder(x)\n",
        "    decoded = self.decoder(encoded)\n",
        "    return decoded"
      ]
    },
    {
      "cell_type": "code",
      "execution_count": null,
      "metadata": {
        "id": "oCLASFt_s6wz"
      },
      "outputs": [],
      "source": [
        "def root_mean_squared_error(y_true, y_pred):\n",
        "        return tf.keras.backend.sqrt(tf.keras.backend.mean(tf.keras.backend.square(y_pred - y_true))) # For the evaluation metric, we use mean squared error applied to each pixel of the image"
      ]
    },
    {
      "cell_type": "code",
      "execution_count": null,
      "metadata": {
        "tags": [],
        "id": "cDtRV4Qns6wz"
      },
      "outputs": [],
      "source": [
        "autoencoder = wm_remover(GENERATE_SQUARE)\n",
        "autoencoder.compile(optimizer='adam', loss=root_mean_squared_error) \n",
        "autoencoder.build((1,GENERATE_SQUARE,GENERATE_SQUARE,3))"
      ]
    },
    {
      "cell_type": "code",
      "source": [
        "weight_path = \"/content/Weights/_20221225-205242__pretrained_weights0015.h5\" \n",
        "autoencoder.load_weights(weight_path) \n",
        "\n",
        "os.makedirs(\"/content/new_weights/\", exist_ok=True)\n",
        "mc = tf.keras.callbacks.ModelCheckpoint(\"/content/new_weights/_pretrained_weights{epoch:04d}.h5\", save_weights_only=True, save_freq=1)"
      ],
      "metadata": {
        "id": "fCHViOOY4Bsw"
      },
      "execution_count": null,
      "outputs": []
    },
    {
      "cell_type": "code",
      "source": [
        "# Train the network\n",
        "autoencoder.fit(train_generator, steps_per_epoch=STEP_SIZE_TRAIN,\n",
        "                    validation_data=valid_generator,\n",
        "                    validation_steps=STEP_SIZE_VALID,\n",
        "                    epochs=5,\n",
        "                    callbacks=[mc])"
      ],
      "metadata": {
        "id": "_7GttNYAD8Fp"
      },
      "execution_count": null,
      "outputs": []
    }
  ]
}